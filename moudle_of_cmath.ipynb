{
  "nbformat": 4,
  "nbformat_minor": 0,
  "metadata": {
    "colab": {
      "name": "moudle of cmath.ipynb",
      "provenance": [],
      "collapsed_sections": [],
      "authorship_tag": "ABX9TyMr4DVCTj1Mg4QqUdujZcR3",
      "include_colab_link": true
    },
    "kernelspec": {
      "name": "python3",
      "display_name": "Python 3"
    },
    "language_info": {
      "name": "python"
    }
  },
  "cells": [
    {
      "cell_type": "markdown",
      "metadata": {
        "id": "view-in-github",
        "colab_type": "text"
      },
      "source": [
        "<a href=\"https://colab.research.google.com/github/Mohasg77/module/blob/module/moudle_of_cmath.ipynb\" target=\"_parent\"><img src=\"https://colab.research.google.com/assets/colab-badge.svg\" alt=\"Open In Colab\"/></a>"
      ]
    },
    {
      "cell_type": "code",
      "metadata": {
        "colab": {
          "base_uri": "https://localhost:8080/"
        },
        "id": "pdYiypc1cfPQ",
        "outputId": "601d7690-f7f9-46f8-c85f-a92019a58ac7"
      },
      "source": [
        "from cmath import *\n",
        "\n",
        "a = float(input(\"real part = \"))\n",
        "b = float(input(\"Imaginary part = \"))\n",
        "c = complex(a , b)"
      ],
      "execution_count": 1,
      "outputs": [
        {
          "name": "stdout",
          "output_type": "stream",
          "text": [
            "real part = 2\n",
            "Imaginary part = 5\n"
          ]
        }
      ]
    },
    {
      "cell_type": "code",
      "metadata": {
        "colab": {
          "base_uri": "https://localhost:8080/"
        },
        "id": "H2ejFe7-c1t1",
        "outputId": "a62ba7ca-6f35-4ecb-f3fc-667d659f445f"
      },
      "source": [
        "import timeit as time\n",
        "x,y = 0,0\n",
        "z = input(\"Enter your function : \")\n",
        "if z == \"rect\":\n",
        "  x = float(input(\"Enter the Radius : \"))\n",
        "  y = float(input(\"Enter the Angle : \"))\n",
        "  w = (x,y)\n",
        "d = {\n",
        "    \"acos\" : acos(c),     #تابع کوسینوس arc محاسبه\n",
        "    \"asin\" : asin(c),     #تابع سینوس arc محاسبه\n",
        "    \"atan\" : atan(c),     #تابع تانژانت arc محاسبه\n",
        "   \"phase\" : phase(c),    #نمایش فاز عدد بر حسب رادیان\n",
        "     \"log\" : log(c),      #محاسبه لگاریتم عدد مختلط\n",
        "   \"log10\" : log10(c),    #محاسبه لگاریتم عدد مختلط در مبنای عدد 10\n",
        "     \"tau\" : tau,         #نمایش مقداار تاو در یک عدد\n",
        "       \"e\" : e,           #محاسبه عدد نپر\n",
        "     \"exp\" : exp(c),      #محاسبه تابع نمایی عدد مختلط\n",
        "   \"isnan\" : isnan(c),    #قسمت موهومی و قسمت واقعی را چک میکند که وجود دارد یا نه\n",
        "   \"isinf\" : isinf(c),    #چک میکند که ایا بینهایت در عدد مختلط هست یا نه\n",
        "\"isinfine\" : isfinite(c), #چک میکند که ایا همه اعداد متناهب هستند یا نه \n",
        "    \"rect\" : rect(x , y)  #تبدیل مختصات قطبی یک عدد به مختصات دکارتی\n",
        "    }\n",
        "if d.get(z , False):\n",
        "  if z == \"e\" or z == \"tau\":\n",
        "    print(z , \" : \" , d[z])\n",
        "  elif z == \"rect\":\n",
        "    print(z , w , \": \" , d[z])\n",
        "  else:\n",
        "    print(z , c , \": \" , d[z])\n",
        "else:\n",
        "    print(\"This function is not define\")\n",
        "time.timeit()"
      ],
      "execution_count": null,
      "outputs": [
        {
          "output_type": "stream",
          "name": "stdout",
          "text": [
            "Enter your function : atan\n",
            "atan (2+3j) :  (1.4099210495965755+0.22907268296853878j)\n"
          ]
        },
        {
          "output_type": "execute_result",
          "data": {
            "text/plain": [
              "0.021403774000020803"
            ]
          },
          "metadata": {},
          "execution_count": 5
        }
      ]
    }
  ]
}