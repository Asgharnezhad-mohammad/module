{
  "nbformat": 4,
  "nbformat_minor": 0,
  "metadata": {
    "colab": {
      "name": "Math Modules.ipynb",
      "provenance": [],
      "collapsed_sections": [],
      "authorship_tag": "ABX9TyO+K1Zx52LgiEL5klEQHF39",
      "include_colab_link": true
    },
    "kernelspec": {
      "name": "python3",
      "display_name": "Python 3"
    },
    "language_info": {
      "name": "python"
    }
  },
  "cells": [
    {
      "cell_type": "markdown",
      "metadata": {
        "id": "view-in-github",
        "colab_type": "text"
      },
      "source": [
        "<a href=\"https://colab.research.google.com/github/Mohasg77/module/blob/module/Math_Modules.ipynb\" target=\"_parent\"><img src=\"https://colab.research.google.com/assets/colab-badge.svg\" alt=\"Open In Colab\"/></a>"
      ]
    },
    {
      "cell_type": "code",
      "metadata": {
        "colab": {
          "base_uri": "https://localhost:8080/"
        },
        "id": "3eZIAzYh-xV8",
        "outputId": "4b759d42-c370-4ddc-a2f2-039488dfdadf"
      },
      "source": [
        "from math import *\n",
        "\n",
        "n = input('''Enter a functoins :\n",
        "(degrees or radians),(log or log10),(pow or factorials),(sin or cos),(ceil or floor) or fabs)\n",
        "''')\n",
        "d = {\n",
        "    \"degrees\" : \"برمیگرداند float همواره خروجی عدد اعشاری را degrees این تابع مقدار رادیان را به درجه تبدیل میکند و تنها یک ورودی به عنوان آرگومان می پذیرد، تابع  \",\n",
        "    \"radians\" : \"برمیگرداند float همواره خروجی عدد اعشاری را radians این تابع مقدار درجه را به رادیان تبدیل میکند و تنها یک ورودی به عنوان آرگومان می پذیرد، تابع  \",\n",
        "    \"pow\" : \" .این تابع همان تابع توان هست که دو ورودی می‌پذیرد و عدد اولی را به توان عدد دومی می‌رساند \",\n",
        "    \"log10\" : \".همواره خروجی را به شکل عدد اعشاری نشان میدهد log10 تابع لگاریتم عدد را بر مبنای ۱۰ محاسبه می‌کند و تنها یک آرگومان می‌پذیرد که عدد هست، دقت کنید که تابع  \",\n",
        "    \"log\" : \" .این تابع دو آرگومان می‌پذیرد که اولی عدد و دومی مبنا می‌باشد \",\n",
        "    \"cos\" : \" .استفاده کنیم radians  تابع کسینوس زاویه را محاسبه می‌کند، مقدار این تابع از 0 به 1 میل میکند. این تابع آرگمان را بر مبنای رادیان محاسبه می‌کند که برای محاسبه کسینوس درجه باید از تابع \",\n",
        "    \"sin\" : \" .استفاده کنیم radians  تابع سینوس زاویه را محاسبه می‌کند، مقدار این تابع از 0 به 1 میل میکند. این تابع آرگمان را بر مبنای رادیان محاسبه می‌کند که برای محاسبه سینوس درجه باید از تابع \",\n",
        "    \"factorial\" : \" .همواره باید عدد صحیح و مثبت باشد و اعداد منفی و اعشاری قبول نمی‌کند factorial  تابع فاکتوریل عدد را محاسبه می‌کند. دقت کنید که ارگومان تابع \",\n",
        "    \"floor\" : \" .این تابع همواره عدد را رو به عدد کوچک‌ ‌تر و رو به پایین گرد می‌کند ویک آرگومان میپذیرد \",\n",
        "    \"ceil\" : \" .همواره خروجی را به صورت یک عدد صحیح برمیگرداند ceil این تابع همواره عدد را رو به عدد بزرگ‌ ‌تر و رو به بالا گرد می‌کند، دقت کنید که تابع \",\n",
        "    \"fabs\" : \".یا قدر مطلق هر ورودی عددی را به یک عدد مثبت تبدیل میکند و فقط یک آرگومان دریافت میکند absolute value تابع \"\n",
        "   }\n",
        "\n",
        "if d.get(n,False):\n",
        "  print('\\n',n ,\" :\",d[n])\n",
        "else:\n",
        "  print('\\n'\"این تابع در ماژول ریاضی پایتون وجود ندارد\")"
      ],
      "execution_count": null,
      "outputs": [
        {
          "output_type": "stream",
          "name": "stdout",
          "text": [
            "Enter a functoins :\n",
            "(degrees or radians),(log or log10),(pow or factorials),(sin or cos),(ceil or floor) or fabs)\n",
            "sin\n",
            "\n",
            " sin  :  .استفاده کنیم radians  تابع سینوس زاویه را محاسبه می‌کند، مقدار این تابع از 0 به 1 میل میکند. این تابع آرگمان را بر مبنای رادیان محاسبه می‌کند که برای محاسبه سینوس درجه باید از تابع \n"
          ]
        }
      ]
    }
  ]
}