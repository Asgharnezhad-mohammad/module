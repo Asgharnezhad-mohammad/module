{
  "nbformat": 4,
  "nbformat_minor": 0,
  "metadata": {
    "colab": {
      "name": "moudle of statistics.ipynb",
      "provenance": [],
      "authorship_tag": "ABX9TyMuj/WzAH6nfplmwBPQQ/6U",
      "include_colab_link": true
    },
    "kernelspec": {
      "name": "python3",
      "display_name": "Python 3"
    },
    "language_info": {
      "name": "python"
    }
  },
  "cells": [
    {
      "cell_type": "markdown",
      "metadata": {
        "id": "view-in-github",
        "colab_type": "text"
      },
      "source": [
        "<a href=\"https://colab.research.google.com/github/Mohasg77/module/blob/module/moudle_of_statistics.ipynb\" target=\"_parent\"><img src=\"https://colab.research.google.com/assets/colab-badge.svg\" alt=\"Open In Colab\"/></a>"
      ]
    },
    {
      "cell_type": "code",
      "metadata": {
        "id": "VFXU9hP9GRW2"
      },
      "source": [
        "from statistics import *\n",
        "import numpy as np\n",
        "from pandas import *\n",
        "a = float(input(\"a = \"))\n",
        "b = float(input(\"b = \"))\n",
        "c = float(input(\"c = \"))\n",
        "print(\"d = \", a + b + c)\n",
        "print(\"e = \", a - b + c)\n",
        "print(\"f = \", a + b - c)\n",
        "x = [a , b, c ,a + b + c ,a - b + c ,a + b - c]\n",
        "y = [10 ,14 ,18 ,22, 26 ,36]\n",
        "z = np.array([x,y])"
      ],
      "execution_count": null,
      "outputs": []
    },
    {
      "cell_type": "code",
      "metadata": {
        "id": "0zyQQmtGekQ4"
      },
      "source": [
        "print(\"arithmetic mean : \", mean([a ,b ,c]))                #محاسبه میانگین سه عدد\n",
        "print(\"Harmonic mean : \", harmonic_mean([a ,b ,c]))         #محاسبه میانگین هارمونیک سه عدد\n",
        "print(\"miane : \", median([a ,b ,c]))                        #محاسبه میانه سه عدد\n",
        "print(\"mode : \", mode([a ,b ,c ,c ,b ,a , a , c, c]))       #محاسبه مد در یک سری از داده ها\n",
        "print(\"standard deviation : \", stdev([a, b ,c]))            #محاسبه انحراف معیار نمونه در سه داده\n",
        "print(\"population standard deviation : \", pstdev([a, b ,c]))#محاسبه انحراف معیار جامعه\n",
        "print(\"variance : \", variance([a ,b ,c]))                   #محاسبه واریانس نمونه در سه داده\n",
        "print(\"population variance : \", pvariance([a ,b ,c]))       #محاسبه واریانس جامعه در سه داده\n",
        "#print(\"geometric mean : \", geometric_mean([1,25,8]))              #محاسبه میانگین هندسی سه عدد\n",
        "print(\"covarianse for two number : \", cov([a ,b]))          #محاسبه کوواریانس دو عدد\n",
        "print(\"calculate quantile : \", quantile(z ,0.5))            #محاسبه چندک ها \n",
        "print(\"covarianse for two list : \")                         #محاسبه کوواریانس دو سری از لیست\n",
        "(DataFrame(cov(z) ,index=[\"x\" ,\"y\"] ,columns=[\"x\" ,\"y\"]).iloc[:3,:3])"
      ],
      "execution_count": null,
      "outputs": []
    }
  ]
}